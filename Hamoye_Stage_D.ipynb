{
  "cells": [
    {
      "cell_type": "markdown",
      "metadata": {
        "id": "kbS0FTRxZzgx"
      },
      "source": [
        "## Importing libraries and Loading the data\n",
        "\n"
      ]
    },
    {
      "cell_type": "code",
      "execution_count": null,
      "metadata": {
        "id": "WZnAo8eSwj-I"
      },
      "outputs": [],
      "source": [
        "# Importing needed libraries\n",
        "\n",
        "import numpy as np\n",
        "import matplotlib.pyplot as plt\n",
        "import tensorflow as tf\n",
        "from tensorflow import keras"
      ]
    },
    {
      "cell_type": "code",
      "execution_count": null,
      "metadata": {
        "id": "fNSvMgEdx6qY"
      },
      "outputs": [],
      "source": [
        "# Mnist comes with Keras by default so simply load the test and train files using the codes below\n",
        "\n",
        "mnist= keras.datasets.mnist\n",
        "(train_images, train_labels), (test_images, test_labels)=mnist.load_data()"
      ]
    },
    {
      "cell_type": "markdown",
      "metadata": {
        "id": "QmeE16ECP5K5"
      },
      "source": [
        "## Exploring the data"
      ]
    },
    {
      "cell_type": "markdown",
      "metadata": {
        "id": "m8q7iGbzlW29"
      },
      "source": [
        "The mnist dataset is a collection of 28 x 28 pixel images showing hand-drawn representations of the digits 0-9, or what we will refer to as 10 classes.\n",
        "Every mnist datapoint has two parts: the image of a handwritten digit (x) and the corresponding label(y), Both the training set and the test set contains images and the corresponding labels.\n"
      ]
    },
    {
      "cell_type": "code",
      "execution_count": null,
      "metadata": {
        "colab": {
          "base_uri": "https://localhost:8080/",
          "height": 51
        },
        "id": "CvyVfIRGatMO",
        "outputId": "ea966566-fcae-46f7-ca37-f08a076e703d"
      },
      "outputs": [
        {
          "name": "stdout",
          "output_type": "stream",
          "text": [
            "Training data: (60000, 28, 28), (60000,)\n",
            "Test data: (10000, 28, 28), (10000,)\n"
          ]
        }
      ],
      "source": [
        "# Let's have a look at the shape of the datasets\n",
        "\n",
        "print(\"Training data: {}, {}\".format(train_images.shape, train_labels.shape))\n",
        "# prints Training data: (60000, 28, 28), (60000,)\n",
        "print(\"Test data: {}, {}\".format(test_images.shape, test_labels.shape))\n",
        "# prints Test data: (10000, 28, 28), (10000,)"
      ]
    },
    {
      "cell_type": "code",
      "execution_count": null,
      "metadata": {
        "colab": {
          "base_uri": "https://localhost:8080/",
          "height": 34
        },
        "id": "Di0Vk5K91Piq",
        "outputId": "e417ef88-280e-4742-bac3-eca43d4cf995"
      },
      "outputs": [
        {
          "name": "stdout",
          "output_type": "stream",
          "text": [
            "There are 10 classes in the dataset. They are: [0 1 2 3 4 5 6 7 8 9]\n"
          ]
        }
      ],
      "source": [
        "class_labels = np.unique(train_labels)\n",
        "print(\"There are {} classes in the dataset. They are: {}\".format(len(class_labels), class_labels))"
      ]
    },
    {
      "cell_type": "code",
      "execution_count": null,
      "metadata": {
        "colab": {
          "base_uri": "https://localhost:8080/",
          "height": 212
        },
        "id": "9dMhV1yp19b4",
        "outputId": "fbdbd52b-7dfb-4ee7-817b-b28a91f40d8b"
      },
      "outputs": [
        {
          "data": {
            "text/plain": [
              "Text(0.5, 1.0, 'Label: 5')"
            ]
          },
          "execution_count": 5,
          "metadata": {
            "tags": []
          },
          "output_type": "execute_result"
        },
        {
          "data": {
            "image/png": "[encoded data removed]",
            "text/plain": [
              "<Figure size 576x360 with 1 Axes>"
            ]
          },
          "metadata": {
            "needs_background": "light",
            "tags": []
          },
          "output_type": "display_data"
        }
      ],
      "source": [
        "# Let's plot and look at a few images \n",
        "\n",
        "plt.figure(figsize=(8, 5))\n",
        "\n",
        "plt.subplot(1,3,1)\n",
        "plt.imshow(train_images[0])\n",
        "plt.title(\"Label: {}\".format(train_labels[0]))"
      ]
    },
    {
      "cell_type": "code",
      "execution_count": null,
      "metadata": {
        "colab": {
          "base_uri": "https://localhost:8080/",
          "height": 179
        },
        "id": "NwiLtL0Z2Lo6",
        "outputId": "b3f271d2-a927-4e23-95c5-d933c4a73596"
      },
      "outputs": [
        {
          "data": {
            "text/plain": [
              "Text(0.5, 1.0, 'Label: 0')"
            ]
          },
          "execution_count": 6,
          "metadata": {
            "tags": []
          },
          "output_type": "execute_result"
        },
        {
          "data": {
            "image/png": "[encoded data removed]",
            "text/plain": [
              "<Figure size 432x288 with 1 Axes>"
            ]
          },
          "metadata": {
            "needs_background": "light",
            "tags": []
          },
          "output_type": "display_data"
        }
      ],
      "source": [
        "plt.subplot(1,3,2)\n",
        "plt.imshow(train_images[2500])\n",
        "plt.title(\"Label: {}\".format(train_labels[2500]))\n"
      ]
    },
    {
      "cell_type": "code",
      "execution_count": null,
      "metadata": {
        "colab": {
          "base_uri": "https://localhost:8080/",
          "height": 149
        },
        "id": "rbh3Al1h2Rm5",
        "outputId": "79b9671c-6818-49d7-d232-09e81cca1c66"
      },
      "outputs": [
        {
          "data": {
            "image/png": "[encoded data removed]",
            "text/plain": [
              "<Figure size 432x288 with 1 Axes>"
            ]
          },
          "metadata": {
            "needs_background": "light",
            "tags": []
          },
          "output_type": "display_data"
        }
      ],
      "source": [
        "plt.subplot(1,3,3)\n",
        "plt.imshow(test_images[12])\n",
        "plt.show()\n",
        "\n",
        "\n"
      ]
    },
    {
      "cell_type": "markdown",
      "metadata": {
        "id": "4JCs1oHvSf85"
      },
      "source": [
        "## Data Preprocessing"
      ]
    },
    {
      "cell_type": "markdown",
      "metadata": {
        "id": "w7gzF5OXnBlN"
      },
      "source": [
        "We would first of all normaize the images pixel values. Pixel values are often unsigned integers in the range between 0 and 255. Although these pixel values can be presented directly to neural network models in their raw format, this can result in challenges during modeling, such as in the slower than expected training of the model.\n",
        "\n",
        "Instead, there can be great benefit in preparing the image pixel values prior to modeling, such as simply scaling pixel values to the range 0-1 to centering and even standardizing the values."
      ]
    },
    {
      "cell_type": "code",
      "execution_count": null,
      "metadata": {
        "id": "INrwkegv23n9"
      },
      "outputs": [],
      "source": [
        "# As usual, we scale our dataset to range between 0 and 1. In this dataset, the pixel values range from 0 to 255.\n",
        "# Dividing the data by 255 scales to the required range. This normalization is done to help with the training.\n",
        "\n",
        "train_images = train_images / 255.0\n",
        "test_images = test_images / 255.0\n"
      ]
    },
    {
      "cell_type": "markdown",
      "metadata": {
        "id": "0Y0Ztdq4nLK5"
      },
      "source": [
        "We then partition this dataset further and create a validation set. In other words, a training set is used to fit the parameters, validation set is used to tune the parameters while the trained classifier is evaluated on the test set."
      ]
    },
    {
      "cell_type": "code",
      "execution_count": null,
      "metadata": {
        "colab": {
          "base_uri": "https://localhost:8080/",
          "height": 85
        },
        "id": "TVCILNWY8koK",
        "outputId": "69270391-66c2-4061-c470-33850f1fce85"
      },
      "outputs": [
        {
          "name": "stdout",
          "output_type": "stream",
          "text": [
            "x_train: (50000, 28, 28)\n",
            "x_val: (10000, 28, 28)\n",
            "y_train: (50000,)\n",
            "y_val: (10000,)\n"
          ]
        }
      ],
      "source": [
        "x_train = train_images[0:50000]\n",
        "x_val = train_images[50000:]\n",
        "y_train = train_labels[0:50000]\n",
        "y_val = train_labels[50000:]\n",
        "\n",
        "print(\"x_train: {}\".format(x_train.shape)) # prints x_train: (50000, 28, 28)\n",
        "print(\"x_val: {}\".format(x_val.shape)) # prints x_val: (10000, 28, 28)\n",
        "print(\"y_train: {}\".format(y_train.shape)) #prints y_train: (50000,)\n",
        "print(\"y_val: {}\".format(y_val.shape)) #prints y_val: (10000,)"
      ]
    },
    {
      "cell_type": "markdown",
      "metadata": {
        "id": "Aq_XlLdxqY4C"
      },
      "source": [
        "Now we one-hot code the categorical column(y in this case). In one-hot encoding, we convert the categorical data into a vector of numbers i.e converting class vectors to binary class vectors(0 and 1). we do this because machine learning algorithms can't work with categorical data directly.\n",
        "\n",
        "The one-hot encoding will be a row vector, and for each image, it will have a dimension of 1 x 10. It's important to note that the vector consists of all zeros except for the class that it represents,there, you'll find a 1. For example 3 translates to [0 0 0 1 0 0 0 0 0 0] and 9 translates to [0 0 0 0 0 0 0 0 0 1]. Note that no_labels also refers to the number of classes which is 10."
      ]
    },
    {
      "cell_type": "code",
      "execution_count": null,
      "metadata": {
        "id": "n-3H95czi-t0"
      },
      "outputs": [],
      "source": [
        "# one-hot encoding using keras' numpy-related utilities\n",
        "\n",
        "from tensorflow.keras.utils import to_categorical\n",
        "no_labels = 10\n",
        "y_train = to_categorical(y_train, no_labels)\n",
        "y_val = to_categorical(y_val, no_labels)\n",
        "y_test = to_categorical(test_labels, no_labels)"
      ]
    },
    {
      "cell_type": "markdown",
      "metadata": {
        "id": "-Gr31u4z5zze"
      },
      "source": [
        "As with all machine learning, the models are very picky about the format of the input data. We need to to reshape the 28x28 image arrays into 784-unit vectors. This is necessary because the first layer of the network is expecting a vector input.\n"
      ]
    },
    {
      "cell_type": "code",
      "execution_count": null,
      "metadata": {
        "colab": {
          "base_uri": "https://localhost:8080/",
          "height": 68
        },
        "id": "75i21JLI8XoH",
        "outputId": "176d3ad8-d2ee-4017-c29e-1ce41988dd36"
      },
      "outputs": [
        {
          "name": "stdout",
          "output_type": "stream",
          "text": [
            "x_train: (50000, 784)\n",
            "x_val: (10000, 784)\n",
            "test_images: (10000, 784)\n"
          ]
        }
      ],
      "source": [
        "# Flattening the images from the 2D 28x28 pixels to 1D 784 pixels\n",
        "\n",
        "new_dimension = np.prod(train_images.shape[1:])\n",
        "x_train = x_train.reshape(x_train.shape[0], new_dimension)\n",
        "x_val = x_val.reshape(x_val.shape[0], new_dimension)\n",
        "test_images = test_images.reshape(test_images.shape[0], new_dimension)\n",
        "\n",
        "print(\"x_train: {}\".format(x_train.shape)) #prints  x_train: (50000, 784)\n",
        "print(\"x_val: {}\".format(x_val.shape)) #prints x_val: (10000, 784)\n",
        "print(\"test_images: {}\".format(test_images.shape)) #prints test_images: (10000, 784)"
      ]
    },
    {
      "cell_type": "markdown",
      "metadata": {
        "id": "pLW5wrmtC2Wr"
      },
      "source": [
        "We will now define an input placeholder X, which will have a dimension of None x 784 (new_dimension= 784) and the output placeholder with a dimension of None x 10.  \n",
        "\n",
        "A placeholder is simply a variable that we will assign data to at a later date. It allows us to create our operations and build our computation graph, without needing the data. In TensorFlow terminology, we then feed data into the graph through these placeholders. The first dimension of the placeholder is None, meaning we can have any number of rows."
      ]
    },
    {
      "cell_type": "code",
      "execution_count": null,
      "metadata": {
        "colab": {
          "base_uri": "https://localhost:8080/",
          "height": 88
        },
        "id": "MzKBPJLiQ8k5",
        "outputId": "d009a6ef-ecc1-4480-d77d-8c9246786f16"
      },
      "outputs": [
        {
          "name": "stdout",
          "output_type": "stream",
          "text": [
            "WARNING:tensorflow:From /usr/local/lib/python3.6/dist-packages/tensorflow/python/compat/v2_compat.py:96: disable_resource_variables (from tensorflow.python.ops.variable_scope) is deprecated and will be removed in a future version.\n",
            "Instructions for updating:\n",
            "non-resource variables are not supported in the long term\n"
          ]
        }
      ],
      "source": [
        "# inputs\n",
        "#placeholders are not enabled in tf 2\n",
        "import tensorflow.compat.v1 as tf\n",
        "tf.disable_v2_behavior()\n",
        "X = tf.placeholder(tf.float32, [None, new_dimension])\n",
        "Y = tf.placeholder(tf.float32, [None, no_labels])\n"
      ]
    },
    {
      "cell_type": "markdown",
      "metadata": {
        "id": "6e7v4uQOd1VL"
      },
      "source": [
        "## Building the model architecture"
      ]
    },
    {
      "cell_type": "code",
      "execution_count": null,
      "metadata": {
        "id": "rorX5cmvRrcg"
      },
      "outputs": [],
      "source": [
        "# create model architecture\n",
        "def multilayer_perceptron(x, no_classes, first_layer_neurons=256, second_layer_neurons=128):\n",
        "  # first layer\n",
        "  first_weight = tf.Variable(tf.random_uniform([new_dimension, first_layer_neurons]))\n",
        "  first_bias = tf.Variable(tf.zeros([first_layer_neurons]))\n",
        "  first_layer_output = tf.nn.relu(tf.add(tf.matmul(x, first_weight), first_bias))\n",
        "  # second layer\n",
        "  second_weight = tf.Variable(tf.random_uniform([first_layer_neurons,second_layer_neurons]))\n",
        "  second_bias = tf.Variable(tf.zeros([second_layer_neurons]))\n",
        "  second_layer_output = tf.nn.relu(tf.add(tf.matmul(first_layer_output, second_weight), second_bias))\n",
        "  # output layer\n",
        "  final_weight = tf.Variable(tf.random_uniform([second_layer_neurons, no_classes]))\n",
        "  final_bias = tf.Variable(tf.zeros([no_classes]))\n",
        "  logits = tf.add(tf.matmul(second_layer_output, final_weight), final_bias)\n",
        "\n",
        "  return logits\n",
        "\n"
      ]
    },
    {
      "cell_type": "code",
      "execution_count": null,
      "metadata": {
        "colab": {
          "base_uri": "https://localhost:8080/",
          "height": 173
        },
        "id": "HIIiUPtcVG08",
        "outputId": "2a97c845-1ba6-43da-c032-b1d1ca2f15a2"
      },
      "outputs": [
        {
          "name": "stdout",
          "output_type": "stream",
          "text": [
            "WARNING:tensorflow:From /usr/local/lib/python3.6/dist-packages/tensorflow/python/util/dispatch.py:201: softmax_cross_entropy_with_logits (from tensorflow.python.ops.nn_ops) is deprecated and will be removed in a future version.\n",
            "Instructions for updating:\n",
            "\n",
            "Future major versions of TensorFlow will allow gradients to flow\n",
            "into the labels input on backprop by default.\n",
            "\n",
            "See `tf.nn.softmax_cross_entropy_with_logits_v2`.\n",
            "\n"
          ]
        }
      ],
      "source": [
        "logits = multilayer_perceptron(X, no_labels)\n",
        "learning_rate = 0.01\n",
        "#we define the loss and optimiser for the network\n",
        "loss_op = tf.reduce_mean(tf.nn.softmax_cross_entropy_with_logits(logits=logits, labels=Y))\n",
        "optimiser = tf.train.AdamOptimizer(learning_rate=learning_rate)\n",
        "train_op = optimiser.minimize(loss_op)"
      ]
    },
    {
      "cell_type": "markdown",
      "metadata": {
        "id": "C-6pgc9MS9oE"
      },
      "source": [
        "## Running the model"
      ]
    },
    {
      "cell_type": "code",
      "execution_count": null,
      "metadata": {
        "colab": {
          "base_uri": "https://localhost:8080/",
          "height": 374
        },
        "id": "nMUMMobTVRQN",
        "outputId": "ecc5e08d-17cf-45a4-f60b-ad18d22cd092"
      },
      "outputs": [
        {
          "name": "stdout",
          "output_type": "stream",
          "text": [
            "Epoch========0\n",
            "Epoch========1\n",
            "Epoch========2\n",
            "Epoch========3\n",
            "Epoch========4\n",
            "Epoch========5\n",
            "Epoch========6\n",
            "Epoch========7\n",
            "Epoch========8\n",
            "Epoch========9\n",
            "Epoch========10\n",
            "Epoch========11\n",
            "Epoch========12\n",
            "Epoch========13\n",
            "Epoch========14\n",
            "Epoch========15\n",
            "Epoch========16\n",
            "Epoch========17\n",
            "Epoch========18\n",
            "Epoch========19\n",
            "Accuracy: 0.9050999879837036\n"
          ]
        }
      ],
      "source": [
        "\n",
        "#initialise the variables\n",
        "init = tf.global_variables_initializer()\n",
        "\n",
        "epochs = 20\n",
        "batch_size = 1000\n",
        "iteration = len(x_train) // batch_size\n",
        "#train model\n",
        "with tf.Session() as session:\n",
        "  session.run(init)\n",
        "  for epoch in range(epochs):\n",
        "    average_cost = 0\n",
        "    start, end = 0, batch_size\n",
        "    for i in range(iteration):\n",
        "      batch_x, batch_y = x_train[start: end], y_train[start: end]\n",
        "      _, loss = session.run([train_op, loss_op], feed_dict={X: batch_x, Y: batch_y})\n",
        "      start += batch_size\n",
        "      end += batch_size \n",
        "      #average loss\n",
        "      average_cost += loss/iteration\n",
        "    print(\"Epoch========{}\".format(epoch))\n",
        "    #evaluate model\n",
        "  prediction = tf.nn.softmax(logits)\n",
        "  ground_truth = tf.equal(tf.argmax(prediction, 1), tf.argmax(Y, 1))\n",
        "  accuracy = tf.reduce_mean(tf.cast(ground_truth, \"float\"))\n",
        "  print(\"Accuracy: {}\".format(accuracy.eval({X: test_images, Y: y_test})))\n",
        "    \n",
        "\n",
        "   "
      ]
    },
    {
      "cell_type": "markdown",
      "metadata": {
        "id": "DADKs2IhInEw"
      },
      "source": [
        "## Optimization for training deep neural networks"
      ]
    },
    {
      "cell_type": "code",
      "execution_count": null,
      "metadata": {
        "id": "UH8K-t2nTY_q"
      },
      "outputs": [],
      "source": [
        "#Building a Sequential Feed Forward Network in Keras\n",
        "\n",
        "from tensorflow.keras.layers import Dense\n",
        "from tensorflow.keras.models import Sequential\n",
        "#Build the model object\n",
        "model = Sequential()\n",
        "# Build the input and the hidden layers\n",
        "model.add(Dense(256, activation='relu', input_shape=(new_dimension,)))\n",
        "model.add(Dense(128, activation='relu'))\n",
        "# Build the output layer\n",
        "model.add(Dense(no_labels, activation='softmax'))\n",
        "\n",
        "\n"
      ]
    },
    {
      "cell_type": "markdown",
      "metadata": {
        "id": "Dl9S_2vnd3g1"
      },
      "source": [
        "Now that the model is in place, we configure the learning process using .compile(). Here we specify our loss function (or objective function). For our setting categorical cross entropy fits the bill, but in general other loss functions are available. \n",
        "\n",
        "As for the optimizer of choice we'll use Adam with default settings. We could also instantiate an optimizer and set parameters before passing it to model.compile() but for this example the defaults will do.\n",
        "\n",
        "We also choose which metrics will be evaluated during training and testing. We can pass any list of metrics - even build metrics ourselves - and have them displayed during training/testing."
      ]
    },
    {
      "cell_type": "code",
      "execution_count": null,
      "metadata": {
        "id": "Nf7b70bZduo_"
      },
      "outputs": [],
      "source": [
        "model.compile(optimizer='adam', loss=tf.keras.losses.categorical_crossentropy, \n",
        "              metrics=['accuracy'])\n"
      ]
    },
    {
      "cell_type": "markdown",
      "metadata": {
        "id": "5i9Lefmuen-3"
      },
      "source": [
        "Having compiled our model we can now start the training process. We have to specify how many times we want to iterate on the whole training set (epochs) and how many samples we use for one update to the model's weights (batch size)."
      ]
    },
    {
      "cell_type": "code",
      "execution_count": null,
      "metadata": {
        "colab": {
          "base_uri": "https://localhost:8080/",
          "height": 819
        },
        "id": "ETx_nAX8egpC",
        "outputId": "a78369a1-8d68-461e-b254-427e8281784d"
      },
      "outputs": [
        {
          "name": "stdout",
          "output_type": "stream",
          "text": [
            "Train on 50000 samples, validate on 10000 samples\n",
            "Epoch 1/20\n",
            "49000/50000 [============================>.] - ETA: 0s - loss: 0.7083 - acc: 0.8119WARNING:tensorflow:From /usr/local/lib/python3.6/dist-packages/tensorflow/python/keras/engine/training_v1.py:2048: Model.state_updates (from tensorflow.python.keras.engine.training) is deprecated and will be removed in a future version.\n",
            "Instructions for updating:\n",
            "This property should not be used in TensorFlow 2.0, as updates are applied automatically.\n",
            "50000/50000 [==============================] - 1s 30us/sample - loss: 0.7006 - acc: 0.8141 - val_loss: 0.2577 - val_acc: 0.9246\n",
            "Epoch 2/20\n",
            "50000/50000 [==============================] - 1s 28us/sample - loss: 0.2363 - acc: 0.9321 - val_loss: 0.1824 - val_acc: 0.9488\n",
            "Epoch 3/20\n",
            "50000/50000 [==============================] - 1s 28us/sample - loss: 0.1713 - acc: 0.9509 - val_loss: 0.1472 - val_acc: 0.9576\n",
            "Epoch 4/20\n",
            "50000/50000 [==============================] - 1s 28us/sample - loss: 0.1324 - acc: 0.9617 - val_loss: 0.1252 - val_acc: 0.9640\n",
            "Epoch 5/20\n",
            "50000/50000 [==============================] - 1s 28us/sample - loss: 0.1048 - acc: 0.9698 - val_loss: 0.1104 - val_acc: 0.9669\n",
            "Epoch 6/20\n",
            "50000/50000 [==============================] - 1s 29us/sample - loss: 0.0869 - acc: 0.9749 - val_loss: 0.1021 - val_acc: 0.9695\n",
            "Epoch 7/20\n",
            "50000/50000 [==============================] - 1s 28us/sample - loss: 0.0717 - acc: 0.9801 - val_loss: 0.0915 - val_acc: 0.9739\n",
            "Epoch 8/20\n",
            "50000/50000 [==============================] - 1s 28us/sample - loss: 0.0605 - acc: 0.9830 - val_loss: 0.0919 - val_acc: 0.9730\n",
            "Epoch 9/20\n",
            "50000/50000 [==============================] - 1s 29us/sample - loss: 0.0530 - acc: 0.9848 - val_loss: 0.0880 - val_acc: 0.9752\n",
            "Epoch 10/20\n",
            "50000/50000 [==============================] - 1s 28us/sample - loss: 0.0451 - acc: 0.9876 - val_loss: 0.0851 - val_acc: 0.9750\n",
            "Epoch 11/20\n",
            "50000/50000 [==============================] - 1s 29us/sample - loss: 0.0393 - acc: 0.9891 - val_loss: 0.0815 - val_acc: 0.9751\n",
            "Epoch 12/20\n",
            "50000/50000 [==============================] - 1s 29us/sample - loss: 0.0333 - acc: 0.9915 - val_loss: 0.0803 - val_acc: 0.9764\n",
            "Epoch 13/20\n",
            "50000/50000 [==============================] - 1s 28us/sample - loss: 0.0275 - acc: 0.9930 - val_loss: 0.0805 - val_acc: 0.9778\n",
            "Epoch 14/20\n",
            "50000/50000 [==============================] - 1s 28us/sample - loss: 0.0256 - acc: 0.9938 - val_loss: 0.0817 - val_acc: 0.9759\n",
            "Epoch 15/20\n",
            "50000/50000 [==============================] - 1s 28us/sample - loss: 0.0209 - acc: 0.9953 - val_loss: 0.0815 - val_acc: 0.9779\n",
            "Epoch 16/20\n",
            "50000/50000 [==============================] - 1s 29us/sample - loss: 0.0186 - acc: 0.9962 - val_loss: 0.0772 - val_acc: 0.9791\n",
            "Epoch 17/20\n",
            "50000/50000 [==============================] - 1s 28us/sample - loss: 0.0160 - acc: 0.9967 - val_loss: 0.0775 - val_acc: 0.9779\n",
            "Epoch 18/20\n",
            "50000/50000 [==============================] - 1s 29us/sample - loss: 0.0144 - acc: 0.9970 - val_loss: 0.0798 - val_acc: 0.9790\n",
            "Epoch 19/20\n",
            "50000/50000 [==============================] - 1s 28us/sample - loss: 0.0123 - acc: 0.9980 - val_loss: 0.0802 - val_acc: 0.9788\n",
            "Epoch 20/20\n",
            "50000/50000 [==============================] - 1s 29us/sample - loss: 0.0102 - acc: 0.9982 - val_loss: 0.0803 - val_acc: 0.9787\n",
            "Test loss: 0.07521515955817304\n",
            "Test accuracy: 0.977400004863739\n"
          ]
        }
      ],
      "source": [
        "history = model.fit(x_train, y_train, validation_data=(x_val, y_val), epochs=20, batch_size=1000)\n",
        "\n",
        "test_loss, test_accuracy = model.evaluate(test_images, y_test)\n",
        "print('Test loss: {}'.format(test_loss))\n",
        "print('Test accuracy: {}'.format(test_accuracy))"
      ]
    },
    {
      "cell_type": "code",
      "execution_count": null,
      "metadata": {
        "colab": {
          "base_uri": "https://localhost:8080/",
          "height": 312
        },
        "id": "VSZUrUbyT7Kt",
        "outputId": "d26da58e-7ebe-4139-8d17-b1e9676eccce"
      },
      "outputs": [
        {
          "data": {
            "text/plain": [
              "Text(0.5, 1.0, 'Loss Curves - before regularisation')"
            ]
          },
          "execution_count": 19,
          "metadata": {
            "tags": []
          },
          "output_type": "execute_result"
        },
        {
          "data": {
            "image/png": "[encoded data removed]",
            "text/plain": [
              "<Figure size 432x288 with 1 Axes>"
            ]
          },
          "metadata": {
            "needs_background": "light",
            "tags": []
          },
          "output_type": "display_data"
        }
      ],
      "source": [
        "#Check for Overfitting\n",
        "\n",
        "plt.figure()\n",
        "plt.plot(history.history['loss'], 'blue')\n",
        "plt.plot(history.history['val_loss'], 'red')\n",
        "plt.legend(['Training loss', 'Validation Loss'])\n",
        "plt.xlabel('Epochs')\n",
        "plt.ylabel('Loss')\n",
        "plt.title('Loss Curves - before regularisation')\n"
      ]
    },
    {
      "cell_type": "code",
      "execution_count": null,
      "metadata": {
        "colab": {
          "base_uri": "https://localhost:8080/",
          "height": 748
        },
        "id": "bYMn_FhIUQ7t",
        "outputId": "097d67e9-0103-41f2-f326-2655f070d23f"
      },
      "outputs": [
        {
          "name": "stdout",
          "output_type": "stream",
          "text": [
            "Train on 50000 samples, validate on 10000 samples\n",
            "Epoch 1/20\n",
            "50000/50000 [==============================] - 2s 35us/sample - loss: 1.0000 - acc: 0.6853 - val_loss: 0.2983 - val_acc: 0.9158\n",
            "Epoch 2/20\n",
            "50000/50000 [==============================] - 2s 35us/sample - loss: 0.3864 - acc: 0.8871 - val_loss: 0.2050 - val_acc: 0.9412\n",
            "Epoch 3/20\n",
            "50000/50000 [==============================] - 2s 35us/sample - loss: 0.2875 - acc: 0.9161 - val_loss: 0.1649 - val_acc: 0.9533\n",
            "Epoch 4/20\n",
            "50000/50000 [==============================] - 2s 36us/sample - loss: 0.2440 - acc: 0.9302 - val_loss: 0.1414 - val_acc: 0.9599\n",
            "Epoch 5/20\n",
            "50000/50000 [==============================] - 2s 36us/sample - loss: 0.2074 - acc: 0.9392 - val_loss: 0.1255 - val_acc: 0.9637\n",
            "Epoch 6/20\n",
            "50000/50000 [==============================] - 2s 36us/sample - loss: 0.1808 - acc: 0.9466 - val_loss: 0.1157 - val_acc: 0.9670\n",
            "Epoch 7/20\n",
            "50000/50000 [==============================] - 2s 35us/sample - loss: 0.1652 - acc: 0.9514 - val_loss: 0.1069 - val_acc: 0.9693\n",
            "Epoch 8/20\n",
            "50000/50000 [==============================] - 2s 35us/sample - loss: 0.1512 - acc: 0.9554 - val_loss: 0.0996 - val_acc: 0.9716\n",
            "Epoch 9/20\n",
            "50000/50000 [==============================] - 2s 34us/sample - loss: 0.1356 - acc: 0.9597 - val_loss: 0.0949 - val_acc: 0.9734\n",
            "Epoch 10/20\n",
            "50000/50000 [==============================] - 2s 34us/sample - loss: 0.1280 - acc: 0.9619 - val_loss: 0.0917 - val_acc: 0.9734\n",
            "Epoch 11/20\n",
            "50000/50000 [==============================] - 2s 34us/sample - loss: 0.1175 - acc: 0.9653 - val_loss: 0.0867 - val_acc: 0.9743\n",
            "Epoch 12/20\n",
            "50000/50000 [==============================] - 2s 33us/sample - loss: 0.1091 - acc: 0.9677 - val_loss: 0.0842 - val_acc: 0.9747\n",
            "Epoch 13/20\n",
            "50000/50000 [==============================] - 2s 34us/sample - loss: 0.1003 - acc: 0.9694 - val_loss: 0.0807 - val_acc: 0.9764\n",
            "Epoch 14/20\n",
            "50000/50000 [==============================] - 2s 34us/sample - loss: 0.0963 - acc: 0.9718 - val_loss: 0.0793 - val_acc: 0.9767\n",
            "Epoch 15/20\n",
            "50000/50000 [==============================] - 2s 33us/sample - loss: 0.0903 - acc: 0.9734 - val_loss: 0.0776 - val_acc: 0.9778\n",
            "Epoch 16/20\n",
            "50000/50000 [==============================] - 2s 34us/sample - loss: 0.0853 - acc: 0.9738 - val_loss: 0.0754 - val_acc: 0.9777\n",
            "Epoch 17/20\n",
            "50000/50000 [==============================] - 2s 34us/sample - loss: 0.0806 - acc: 0.9752 - val_loss: 0.0764 - val_acc: 0.9778\n",
            "Epoch 18/20\n",
            "50000/50000 [==============================] - 2s 34us/sample - loss: 0.0748 - acc: 0.9772 - val_loss: 0.0736 - val_acc: 0.9785\n",
            "Epoch 19/20\n",
            "50000/50000 [==============================] - 2s 34us/sample - loss: 0.0735 - acc: 0.9780 - val_loss: 0.0714 - val_acc: 0.9794\n",
            "Epoch 20/20\n",
            "50000/50000 [==============================] - 2s 34us/sample - loss: 0.0678 - acc: 0.9795 - val_loss: 0.0711 - val_acc: 0.9786\n",
            "Test loss: 0.07277523294225102\n",
            "Test accuracy: 0.9789000153541565\n"
          ]
        }
      ],
      "source": [
        "from tensorflow.keras.layers import Dropout\n",
        "reg_model = Sequential()\n",
        "reg_model.add(Dense(256, activation='relu', input_shape=(new_dimension,)))\n",
        "reg_model.add(Dropout(0.4))\n",
        "reg_model.add(Dense(128, activation='relu'))\n",
        "reg_model.add(Dropout(0.4))\n",
        "reg_model.add(Dense(no_labels, activation='softmax'))\n",
        "\n",
        "reg_model.compile(optimizer='adam', loss=tf.keras.losses.categorical_crossentropy, \n",
        "              metrics=['accuracy'])\n",
        "\n",
        "reg_history = reg_model.fit(x_train, y_train, validation_data=(x_val, y_val), \n",
        "                            epochs=20, batch_size=1000)\n",
        "test_loss, test_accuracy = reg_model.evaluate(test_images, y_test)\n",
        "print('Test loss: {}'.format(test_loss))\n",
        "print('Test accuracy: {}'.format(test_accuracy))"
      ]
    },
    {
      "cell_type": "code",
      "execution_count": null,
      "metadata": {
        "colab": {
          "base_uri": "https://localhost:8080/",
          "height": 51
        },
        "id": "Sk_5LEXHUxhA",
        "outputId": "1b57c79a-2237-4f6a-ef7f-67c2ccd94168"
      },
      "outputs": [
        {
          "name": "stdout",
          "output_type": "stream",
          "text": [
            "Test loss: 0.07277523294225102\n",
            "Test accuracy: 0.9789000153541565\n"
          ]
        }
      ],
      "source": [
        "test_loss, test_accuracy = reg_model.evaluate(test_images, y_test)\n",
        "print('Test loss: {}'.format(test_loss))\n",
        "print('Test accuracy: {}'.format(test_accuracy))\n"
      ]
    },
    {
      "cell_type": "code",
      "execution_count": null,
      "metadata": {
        "colab": {
          "base_uri": "https://localhost:8080/",
          "height": 312
        },
        "id": "RhMLDZG0VI_j",
        "outputId": "8b774986-3812-4efa-dab5-54c71fdc2ac1"
      },
      "outputs": [
        {
          "data": {
            "text/plain": [
              "Text(0.5, 1.0, 'Loss Curves - after regularisation')"
            ]
          },
          "execution_count": 22,
          "metadata": {
            "tags": []
          },
          "output_type": "execute_result"
        },
        {
          "data": {
            "image/png": "[encoded data removed]",
            "text/plain": [
              "<Figure size 432x288 with 1 Axes>"
            ]
          },
          "metadata": {
            "needs_background": "light",
            "tags": []
          },
          "output_type": "display_data"
        }
      ],
      "source": [
        "plt.figure()\n",
        "plt.plot(reg_history.history['loss'], 'blue')\n",
        "plt.plot(reg_history.history['val_loss'], 'red')\n",
        "plt.legend(['Training loss', 'Validation Loss'])\n",
        "plt.xlabel('Epochs')\n",
        "plt.ylabel('Loss')\n",
        "plt.title('Loss Curves - after regularisation')"
      ]
    },
    {
      "cell_type": "markdown",
      "metadata": {
        "id": "jc1RSo9bmeSK"
      },
      "source": [
        "## Making Predictions"
      ]
    },
    {
      "cell_type": "markdown",
      "metadata": {
        "id": "xJ3i4SqHmjq7"
      },
      "source": [
        "I added this just for more clarity and understanding. Let's use our model to predict some images and labels."
      ]
    },
    {
      "cell_type": "code",
      "execution_count": null,
      "metadata": {
        "colab": {
          "base_uri": "https://localhost:8080/",
          "height": 34
        },
        "id": "QwBpwqPBhG5z",
        "outputId": "ccef847d-b9bd-421e-a6ff-a88cafc40413"
      },
      "outputs": [
        {
          "name": "stdout",
          "output_type": "stream",
          "text": [
            "9\n"
          ]
        }
      ],
      "source": [
        "predictions = model.predict([test_images]) # Make prediction\n",
        "print(np.argmax(predictions[1000])) # Print out 9"
      ]
    },
    {
      "cell_type": "code",
      "execution_count": null,
      "metadata": {
        "colab": {
          "base_uri": "https://localhost:8080/",
          "height": 181
        },
        "id": "6Ga9e0WAhpLh",
        "outputId": "806a55e1-1f18-4e5e-8830-b225ae4a1152"
      },
      "outputs": [
        {
          "data": {
            "image/png": "[encoded data removed]",
            "text/plain": [
              "<Figure size 576x360 with 1 Axes>"
            ]
          },
          "metadata": {
            "needs_background": "light",
            "tags": []
          },
          "output_type": "display_data"
        }
      ],
      "source": [
        "# Let's see whether the image would turn out to be 9\n",
        "# Remember that the input data to the network were flattened for the purpose of learning to a vector with a length of 784. Before displaying it, we need to convert it back to the size of 28 x 28 pixels.\n",
        "plt.figure(figsize=(8, 5))\n",
        "\n",
        "plt.subplot(1,3,1)\n",
        "plt.imshow(test_images[1000].reshape(28,28), cmap=\"gray\") # Import the image\n",
        "plt.show() # Show the image"
      ]
    },
    {
      "cell_type": "code",
      "execution_count": null,
      "metadata": {
        "colab": {
          "base_uri": "https://localhost:8080/",
          "height": 34
        },
        "id": "nRiE2dOimHZW",
        "outputId": "957caf59-db91-40be-adcd-41afd31753d6"
      },
      "outputs": [
        {
          "name": "stdout",
          "output_type": "stream",
          "text": [
            "4\n"
          ]
        }
      ],
      "source": [
        "# You can try out others and play around with them\n",
        "predictions = model.predict([test_images]) # Make prediction\n",
        "print(np.argmax(predictions[6700])) # Print out the number"
      ]
    },
    {
      "cell_type": "code",
      "execution_count": null,
      "metadata": {
        "colab": {
          "base_uri": "https://localhost:8080/",
          "height": 181
        },
        "id": "fbWxk2qemPcS",
        "outputId": "2645f062-0c86-4640-cca2-3ab6592a5a29"
      },
      "outputs": [
        {
          "data": {
            "image/png": "[encoded data removed]",
            "text/plain": [
              "<Figure size 576x360 with 1 Axes>"
            ]
          },
          "metadata": {
            "needs_background": "light",
            "tags": []
          },
          "output_type": "display_data"
        }
      ],
      "source": [
        "plt.figure(figsize=(8, 5))\n",
        "\n",
        "plt.subplot(1,3,1)\n",
        "plt.imshow(test_images[6700].reshape(28,28), cmap=\"gray\") # Import the image\n",
        "plt.show() # Show the image"
      ]
    }
  ],
  "metadata": {
    "colab": {
      "collapsed_sections": [],
      "name": "Hamoye Stage D.ipynb",
      "provenance": []
    },
    "kernelspec": {
      "display_name": "Python 3",
      "name": "python3"
    }
  },
  "nbformat": 4,
  "nbformat_minor": 0
}
